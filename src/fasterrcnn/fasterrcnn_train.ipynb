{
 "cells": [
  {
   "cell_type": "code",
   "execution_count": 1,
   "metadata": {},
   "outputs": [],
   "source": [
    "import sys\n",
    "sys.path.append('..')\n",
    "from utils.pytorch_helper import *\n",
    "from torchvision.models.detection import fasterrcnn_resnet50_fpn_v2, fasterrcnn_mobilenet_v3_large_fpn\n",
    "from torchvision.models.detection.faster_rcnn import FastRCNNPredictor\n",
    "from torch.amp import GradScaler\n",
    "from torch.utils.data import DataLoader\n",
    "# with help of this tutorial: https://pytorch.org/tutorials/intermediate/torchvision_tutorial.html\n",
    "model_type = \"mobilenet\" # \"resnet50\""
   ]
  },
  {
   "cell_type": "code",
   "execution_count": 2,
   "metadata": {},
   "outputs": [],
   "source": [
    "# Train Dataset\n",
    "images_dir = \"../../data/merged/images/train\"\n",
    "annotations_dir = \"../../data/merged/labels/train\"\n",
    "train_dataset = LicensePlateDataset(images_dir, annotations_dir)\n",
    "#train_subset = get_subset(train_dataset, fraction=0.03) # for testing\n",
    "train_loader = DataLoader(train_dataset, batch_size=10, shuffle=True, collate_fn=collate_fn)\n",
    "\n",
    "# Validation Dataset\n",
    "validation_images_dir = \"../../data/merged/images/val\"\n",
    "validation_annotation_dir = \"../../data/merged/labels/val\"\n",
    "val_dataset = LicensePlateDataset(validation_images_dir, validation_annotation_dir)\n",
    "#val_subset = get_subset(val_dataset, fraction=0.2) # for testing\n",
    "val_loader = DataLoader(val_dataset, batch_size=1, shuffle=False, collate_fn=collate_fn)"
   ]
  },
  {
   "cell_type": "code",
   "execution_count": 3,
   "metadata": {},
   "outputs": [
    {
     "name": "stdout",
     "output_type": "stream",
     "text": [
      "Load Model with backbone mobilenet to cuda\n"
     ]
    }
   ],
   "source": [
    "# use pretrained weights\n",
    "model = fasterrcnn_resnet50_fpn_v2(weights=\"DEFAULT\") if model_type == \"resnet50\" else fasterrcnn_mobilenet_v3_large_fpn(weights=\"DEFAULT\")\n",
    "in_features = model.roi_heads.box_predictor.cls_score.in_features\n",
    "model.roi_heads.box_predictor = FastRCNNPredictor(in_features, num_classes=2)\n",
    "device = torch.device(\"cuda\" if torch.cuda.is_available() else \"cpu\")\n",
    "model.to(device)\n",
    "print(f\"Load Model with backbone {model_type} to {device}\")\n",
    "\n",
    "# scaler helps me with fitting larger batches in the GPU memory, lowers the precision of floats\n",
    "scaler = GradScaler(\"cuda\") \n",
    "params = [p for p in model.parameters() if p.requires_grad]\n",
    "optimizer = torch.optim.SGD(params, lr=0.002, momentum=0.9, weight_decay=0.0001)\n",
    "lr_scheduler = torch.optim.lr_scheduler.CosineAnnealingLR(optimizer, T_max=10)"
   ]
  },
  {
   "cell_type": "code",
   "execution_count": null,
   "metadata": {},
   "outputs": [
    {
     "name": "stdout",
     "output_type": "stream",
     "text": [
      "Checkpoint loaded! Start epoch = 3\n"
     ]
    }
   ],
   "source": [
    "best_mAP50 = 0.0\n",
    "best_mAP50_95 = 0.0\n",
    "stopping_counter = 0\n",
    "patience = 1\n",
    "num_epochs = 10\n",
    "start_epoch = 0\n",
    "\n",
    "continue_training = True\n",
    "if continue_training:\n",
    "    # Faster RCNN Resnet50:\n",
    "    # Epoch 0 Validation: mAP50 = 0.9146, mAP50-95 = 0.6440\n",
    "    # Epoch 1 Validation: mAP50 = 0.9233, mAP50-95 = 0.6387\n",
    "    # -> Epoch 2 Validation: mAP50 = 0.9268, mAP50-95 = 0.6613\n",
    "    # Faster RCNN Mobilenet V3:\n",
    "    # Epoch 0 Validation: mAP50 = 0.8868, mAP50-95 = 0.6464\n",
    "    # Epoch 1 Validation: mAP50 = 0.8908, mAP50-95 = 0.6532\n",
    "    # -> Epoch 2 Validation: mAP50 = 0.8997, mAP50-95 = 0.6668\n",
    "    # Epoch 3 Validation: mAP50 = 0.8878, mAP50-95 = 0.6806\n",
    "    checkpoint = torch.load(f\"../../models/best_fasterrcnn_{model_type}.pth\", weights_only=False)\n",
    "    model.load_state_dict(checkpoint[\"model_state_dict\"])\n",
    "    optimizer.load_state_dict(checkpoint[\"optimizer_state_dict\"])\n",
    "    lr_scheduler.load_state_dict(checkpoint[\"lr_scheduler_state_dict\"])\n",
    "    start_epoch = checkpoint.get(\"epoch\", -1) + 1\n",
    "    best_mAP50 = checkpoint.get(\"mAP50\", 0)\n",
    "    best_mAP50_95 = checkpoint.get(\"mAP50-95\", 0)\n",
    "    print(f\"Checkpoint loaded! Start epoch = {start_epoch}\")"
   ]
  },
  {
   "cell_type": "code",
   "execution_count": null,
   "metadata": {},
   "outputs": [],
   "source": [
    "for epoch in range(start_epoch, num_epochs):\n",
    "    train_loss = train_one_epoch(model, optimizer, train_loader, device, epoch, scaler)\n",
    "    print(f\"Epoch {epoch}: Train Loss = {train_loss:.4f}\")\n",
    "    \n",
    "    lr_scheduler.step()\n",
    "    \n",
    "    metrics = evaluate(model, val_loader, device, fasterrcnn_predict) \n",
    "    mAP50 = metrics['mAP50']\n",
    "    mAP50_95 = metrics['mAP50-95']\n",
    "    print(f\"Epoch {epoch} Validation: mAP50 = {mAP50:.4f}, mAP50-95 = {mAP50_95:.4f}\")\n",
    "    if mAP50 > best_mAP50 or mAP50_95 > best_mAP50_95:\n",
    "        best_mAP50 = max(mAP50, best_mAP50)\n",
    "        best_mAP50_95 = max(mAP50_95, best_mAP50_95)\n",
    "        stopping_counter = 0\n",
    "        torch.save({\n",
    "            \"epoch\": epoch,\n",
    "            \"model_state_dict\": model.state_dict(),\n",
    "            \"optimizer_state_dict\": optimizer.state_dict(),\n",
    "            \"lr_scheduler_state_dict\": lr_scheduler.state_dict(),\n",
    "            \"mAP50\": best_mAP50,\n",
    "            \"mAP50-95\": best_mAP50_95\n",
    "        }, f\"../../models/best_fasterrcnn_{model_type}.pth\")\n",
    "        print(f\"Model saved at epoch {epoch}.\")\n",
    "    else:\n",
    "        stopping_counter += 1\n",
    "    \n",
    "    if stopping_counter == patience:\n",
    "        print(\"Early stopping triggered. Stop training.\")\n",
    "        break"
   ]
  }
 ],
 "metadata": {
  "kernelspec": {
   "display_name": ".venv",
   "language": "python",
   "name": "python3"
  },
  "language_info": {
   "codemirror_mode": {
    "name": "ipython",
    "version": 3
   },
   "file_extension": ".py",
   "mimetype": "text/x-python",
   "name": "python",
   "nbconvert_exporter": "python",
   "pygments_lexer": "ipython3",
   "version": "3.12.6"
  }
 },
 "nbformat": 4,
 "nbformat_minor": 2
}
