{
 "cells": [
  {
   "cell_type": "code",
   "execution_count": 24,
   "metadata": {},
   "outputs": [],
   "source": [
    "import os\n",
    "import shutil\n",
    "import cv2\n",
    "import re\n",
    "\n",
    "def rename_files(images_path, annotations_path, prefix=\"img\", categories = [\"train\", \"val\", \"test\"]):\n",
    "    index = 0\n",
    "    for category in categories:\n",
    "        img_dir = os.path.join(images_path, category)\n",
    "        ann_dir = os.path.join(annotations_path, category)\n",
    "\n",
    "        if not os.path.exists(img_dir) or not os.path.exists(ann_dir):\n",
    "            print(f\"Skipping {category} bc path does not exist\")\n",
    "            continue\n",
    "        \n",
    "        # Vscode sorts by number, easier to see if renaming worked\n",
    "        image_files = sorted(\n",
    "            os.listdir(img_dir),\n",
    "            key=lambda x: int(re.search(r'\\d+', x).group())\n",
    "        ) \n",
    "        \n",
    "        for img_file in image_files:\n",
    "            new_name = f\"{prefix}{index}\"\n",
    "            index +=1\n",
    "            \n",
    "            img_old_path = os.path.join(img_dir, img_file)\n",
    "            img_new_path = os.path.join(img_dir, f\"{new_name}.jpg\")\n",
    "            img_split = os.path.splitext(img_file)\n",
    "            if img_split[1].lower() != \".jpg\":\n",
    "                img = cv2.imread(img_old_path)\n",
    "                if img is not None:\n",
    "                    cv2.imwrite(img_new_path, img, [int(cv2.IMWRITE_JPEG_QUALITY), 95])\n",
    "                    os.remove(img_old_path)\n",
    "                else:\n",
    "                    print(f\"Error when loading {img_old_path}\")\n",
    "            else:\n",
    "                shutil.move(img_old_path, img_new_path)\n",
    "                \n",
    "            ann_old_path = os.path.join(ann_dir, f\"{img_split[0]}.txt\")\n",
    "            ann_new_path = os.path.join(ann_dir, f\"{new_name}.txt\")\n",
    "            shutil.move(ann_old_path, ann_new_path)"
   ]
  },
  {
   "cell_type": "code",
   "execution_count": 19,
   "metadata": {},
   "outputs": [],
   "source": [
    "rename_files(\"../../data/dataset_small_yolo/images\", \"../../data/dataset_small_yolo/labels\", prefix=\"img_dataset_s\", categories = [\"train\", \"val\", \"test\"])"
   ]
  },
  {
   "cell_type": "code",
   "execution_count": 29,
   "metadata": {},
   "outputs": [],
   "source": [
    "rename_files(\"../../data/dataset_large/images\", \"../../data/dataset_large/labels\", prefix=\"img_dataset_l\", categories = [\"train\", \"val\", \"test\"])"
   ]
  }
 ],
 "metadata": {
  "kernelspec": {
   "display_name": ".venv",
   "language": "python",
   "name": "python3"
  },
  "language_info": {
   "codemirror_mode": {
    "name": "ipython",
    "version": 3
   },
   "file_extension": ".py",
   "mimetype": "text/x-python",
   "name": "python",
   "nbconvert_exporter": "python",
   "pygments_lexer": "ipython3",
   "version": "3.12.6"
  }
 },
 "nbformat": 4,
 "nbformat_minor": 2
}
