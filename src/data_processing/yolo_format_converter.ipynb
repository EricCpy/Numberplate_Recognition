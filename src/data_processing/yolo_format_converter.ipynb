{
 "cells": [
  {
   "cell_type": "code",
   "execution_count": 2,
   "metadata": {},
   "outputs": [],
   "source": [
    "import os\n",
    "import xml.etree.ElementTree as ET\n",
    "\n",
    "def convert_voc_to_yolo(images_dir, annotations_dir, output_dir, class_name='licence'):\n",
    "    os.makedirs(output_dir, exist_ok=True)\n",
    "    image_files = sorted([f for f in os.listdir(images_dir) if f.endswith('.png')])\n",
    "\n",
    "    for image_name in image_files:\n",
    "        annotation_path = os.path.join(annotations_dir, image_name.replace('.png', '.xml'))\n",
    "        txt_path = os.path.join(output_dir, image_name.replace('.png', '.txt'))\n",
    "\n",
    "        tree = ET.parse(annotation_path)\n",
    "        root = tree.getroot()\n",
    "\n",
    "        img_width = int(root.find(\"size/width\").text)\n",
    "        img_height = int(root.find(\"size/height\").text)\n",
    "\n",
    "        with open(txt_path, \"w\") as f:\n",
    "            for obj in root.iter('object'):\n",
    "                if obj.find(\"name\").text == class_name:\n",
    "                    bndbox = obj.find(\"bndbox\")\n",
    "                    xmin = int(bndbox.find(\"xmin\").text)\n",
    "                    ymin = int(bndbox.find(\"ymin\").text)\n",
    "                    xmax = int(bndbox.find(\"xmax\").text)\n",
    "                    ymax = int(bndbox.find(\"ymax\").text)\n",
    "\n",
    "                    # YOLO format needs to be normalized\n",
    "                    # https://docs.ultralytics.com/de/datasets/detect/#ultralytics-yolo-format\n",
    "                    x_center = (xmin + xmax) / 2.0 / img_width\n",
    "                    y_center = (ymin + ymax) / 2.0 / img_height\n",
    "                    width = (xmax - xmin) / img_width\n",
    "                    height = (ymax - ymin) / img_height\n",
    "\n",
    "                    # class_id is 0 for license plates\n",
    "                    f.write(f\"0 {x_center} {y_center} {width} {height}\\n\")"
   ]
  },
  {
   "cell_type": "code",
   "execution_count": null,
   "metadata": {},
   "outputs": [],
   "source": [
    "convert_voc_to_yolo(\"../../data/dataset_small/images\", \"../../data/dataset_small/annotations\", \"../../data/dataset_small_yolo\")"
   ]
  }
 ],
 "metadata": {
  "kernelspec": {
   "display_name": ".venv",
   "language": "python",
   "name": "python3"
  },
  "language_info": {
   "codemirror_mode": {
    "name": "ipython",
    "version": 3
   },
   "file_extension": ".py",
   "mimetype": "text/x-python",
   "name": "python",
   "nbconvert_exporter": "python",
   "pygments_lexer": "ipython3",
   "version": "3.12.6"
  }
 },
 "nbformat": 4,
 "nbformat_minor": 2
}
