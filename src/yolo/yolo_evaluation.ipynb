{
 "cells": [
  {
   "cell_type": "code",
   "execution_count": 7,
   "metadata": {},
   "outputs": [
    {
     "name": "stdout",
     "output_type": "stream",
     "text": [
      "YOLO11s summary: 319 layers, 9,428,179 parameters, 0 gradients, 21.5 GFLOPs\n"
     ]
    },
    {
     "data": {
      "text/plain": [
       "(319, 9428179, 0, 21.548492800000002)"
      ]
     },
     "execution_count": 7,
     "metadata": {},
     "output_type": "execute_result"
    }
   ],
   "source": [
    "import sys\n",
    "sys.path.append('..')\n",
    "from utils.evaluation_helper import ObjectDetectionEvaluator\n",
    "from utils.conversion_helpers import convert_yolo_bboxes\n",
    "from ultralytics import YOLO\n",
    "import os\n",
    "\n",
    "model = YOLO(\"../../runs/detect/train/weights/best.pt\")\n",
    "model.info()"
   ]
  },
  {
   "cell_type": "code",
   "execution_count": 8,
   "metadata": {},
   "outputs": [],
   "source": [
    "def yolo_predict(model, img):\n",
    "    # default arguments which overwrite the evaluation function:\n",
    "    # https://docs.ultralytics.com/modes/predict/#inference-arguments\n",
    "    results = model(img, conf=0.001, verbose=False)\n",
    "    confidences = []\n",
    "    boxes = []\n",
    "    \n",
    "    for result in results:\n",
    "        for box in result.boxes:\n",
    "            confidences.append(box.conf.item())\n",
    "            boxes.append(box.xyxy[0].tolist())\n",
    "    \n",
    "    return confidences, boxes"
   ]
  },
  {
   "cell_type": "code",
   "execution_count": 9,
   "metadata": {},
   "outputs": [],
   "source": [
    "image_dir = \"../../data/merged/images/test\"\n",
    "annotation_dir = \"../../data/merged/labels/test\"\n",
    "\n",
    "image_paths = [os.path.join(image_dir, f) for f in os.listdir(image_dir)]\n",
    "annotation_paths = [os.path.join(annotation_dir, f) for f in os.listdir(annotation_dir)]\n",
    "assert len(image_paths) == len(annotation_paths)\n",
    "all_bboxes = convert_yolo_bboxes(annotation_paths, image_paths)"
   ]
  },
  {
   "cell_type": "code",
   "execution_count": 10,
   "metadata": {},
   "outputs": [
    {
     "data": {
      "text/plain": [
       "{'Box(Precision)': 0.8810483869191434,\n",
       " 'Box(Recall)': 0.8323809522224037,\n",
       " 'Confusion Matrix': {'TP': 437, 'FP': 59, 'FN': 88, 'TN': None},\n",
       " 'mAP': [(50, 0.935361921787262),\n",
       "  (55, 0.9397842288017273),\n",
       "  (60, 0.945412278175354),\n",
       "  (65, 0.948367714881897),\n",
       "  (70, 0.9486003518104553),\n",
       "  (75, 0.9407797455787659),\n",
       "  (80, 0.8891838788986206),\n",
       "  (85, 0.7945769429206848),\n",
       "  (90, 0.5249404907226562),\n",
       "  (95, 0.13398467004299164)],\n",
       " 'mAP50': 0.935361921787262,\n",
       " 'mAP50-95': np.float64(0.8000992223620415)}"
      ]
     },
     "execution_count": 10,
     "metadata": {},
     "output_type": "execute_result"
    }
   ],
   "source": [
    "evaluator = ObjectDetectionEvaluator(model, image_paths, all_bboxes, yolo_predict)\n",
    "evaluator.get_metric_summary(verbose=False)"
   ]
  }
 ],
 "metadata": {
  "kernelspec": {
   "display_name": ".venv",
   "language": "python",
   "name": "python3"
  },
  "language_info": {
   "codemirror_mode": {
    "name": "ipython",
    "version": 3
   },
   "file_extension": ".py",
   "mimetype": "text/x-python",
   "name": "python",
   "nbconvert_exporter": "python",
   "pygments_lexer": "ipython3",
   "version": "3.12.6"
  }
 },
 "nbformat": 4,
 "nbformat_minor": 2
}
