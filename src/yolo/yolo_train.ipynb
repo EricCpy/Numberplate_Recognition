{
 "cells": [
  {
   "cell_type": "code",
   "execution_count": 3,
   "metadata": {},
   "outputs": [
    {
     "name": "stdout",
     "output_type": "stream",
     "text": [
      "YOLO11s summary: 319 layers, 9,428,179 parameters, 0 gradients, 21.5 GFLOPs\n"
     ]
    },
    {
     "data": {
      "text/plain": [
       "(319, 9428179, 0, 21.548492800000002)"
      ]
     },
     "execution_count": 3,
     "metadata": {},
     "output_type": "execute_result"
    }
   ],
   "source": [
    "from ultralytics import YOLO\n",
    "\n",
    "# start model \"../../models/yolo11s.pt\"\n",
    "# 1. train run \"../../runs/detect/train/weights/last.pt\"\n",
    "# 2. train run \"../../runs/detect/train2/weights/last.pt\" -> worse results than first model\n",
    "model = YOLO(\"../../runs/detect/train/weights/best.pt\")\n",
    "model.info()"
   ]
  },
  {
   "cell_type": "code",
   "execution_count": null,
   "metadata": {},
   "outputs": [],
   "source": [
    "# Fine-tune on your dataset\n",
    "results = model.train(\n",
    "    data=\"data.yaml\",\n",
    "    epochs=10,\n",
    "    batch=32,\n",
    "    imgsz=640, # Rescales images to this size\n",
    "    device=\"cuda\",\n",
    "    # freeze = 300, # for finetuning instead of retraining https://github.com/ultralytics/ultralytics/issues/6184 -> I will retrain\n",
    "    # resume=True, # to continue training\n",
    "    # fraction = 0.3 # to test early model \n",
    ")"
   ]
  },
  {
   "cell_type": "code",
   "execution_count": 29,
   "metadata": {},
   "outputs": [
    {
     "name": "stdout",
     "output_type": "stream",
     "text": [
      "Ultralytics 8.3.70  Python-3.12.6 torch-2.6.0+cu126 CUDA:0 (NVIDIA GeForce GTX 1080 Ti, 11264MiB)\n"
     ]
    },
    {
     "name": "stderr",
     "output_type": "stream",
     "text": [
      "\u001b[34m\u001b[1mval: \u001b[0mScanning D:\\Zeug\\Unizeug\\Master_DataScience\\3.Semester\\Learning from Images\\Project\\data\\merged\\labels\\val.cache... 1132 images, 0 backgrounds, 0 corrupt: 100%|██████████| 1132/1132 [00:00<?, ?it/s]\n",
      "                 Class     Images  Instances      Box(P          R      mAP50  mAP50-95): 100%|██████████| 1132/1132 [00:21<00:00, 52.82it/s]\n"
     ]
    },
    {
     "name": "stdout",
     "output_type": "stream",
     "text": [
      "                   all       1132       1635      0.842      0.794      0.843      0.491\n",
      "Speed: 0.4ms preprocess, 13.2ms inference, 0.0ms loss, 1.3ms postprocess per image\n",
      "Results saved to \u001b[1md:\\Zeug\\Unizeug\\Master_DataScience\\3.Semester\\Learning from Images\\Project\\runs\\detect\\val11\u001b[0m\n"
     ]
    }
   ],
   "source": [
    "metrics = model.val(conf=0.25, iou=0.5, half=False, batch=1, rect=True)"
   ]
  },
  {
   "cell_type": "code",
   "execution_count": null,
   "metadata": {},
   "outputs": [
    {
     "name": "stdout",
     "output_type": "stream",
     "text": [
      "\n"
     ]
    },
    {
     "name": "stdout",
     "output_type": "stream",
     "text": [
      "image 1/1 d:\\Zeug\\Unizeug\\Master_DataScience\\3.Semester\\Learning from Images\\Project\\src\\yolo\\..\\..\\data\\img.jpg: 480x640 1 license_plate, 44.0ms\n",
      "Speed: 3.1ms preprocess, 44.0ms inference, 2.0ms postprocess per image at shape (1, 3, 480, 640)\n"
     ]
    }
   ],
   "source": [
    "results = model(\"../../data/img.jpg\")\n",
    "results[0].show()"
   ]
  },
  {
   "cell_type": "code",
   "execution_count": 4,
   "metadata": {},
   "outputs": [
    {
     "name": "stdout",
     "output_type": "stream",
     "text": [
      "Ultralytics 8.3.70  Python-3.12.6 torch-2.6.0+cu126 CPU (Intel Core(TM) i7-8700K 3.70GHz)\n",
      "\n",
      "\u001b[34m\u001b[1mPyTorch:\u001b[0m starting from '..\\..\\runs\\detect\\train\\weights\\best.pt' with input shape (1, 3, 640, 640) BCHW and output shape(s) (1, 5, 8400) (18.3 MB)\n",
      "\n",
      "\u001b[34m\u001b[1mONNX:\u001b[0m starting export with onnx 1.17.0 opset 19...\n",
      "\u001b[34m\u001b[1mONNX:\u001b[0m slimming with onnxslim 0.1.48...\n",
      "\u001b[34m\u001b[1mONNX:\u001b[0m export success  3.6s, saved as '..\\..\\runs\\detect\\train\\weights\\best.onnx' (36.2 MB)\n",
      "\n",
      "Export complete (4.2s)\n",
      "Results saved to \u001b[1mD:\\Zeug\\Unizeug\\Master_DataScience\\3.Semester\\Learning from Images\\Project\\runs\\detect\\train\\weights\u001b[0m\n",
      "Predict:         yolo predict task=detect model=..\\..\\runs\\detect\\train\\weights\\best.onnx imgsz=640  \n",
      "Validate:        yolo val task=detect model=..\\..\\runs\\detect\\train\\weights\\best.onnx imgsz=640 data=data.yaml  \n",
      "Visualize:       https://netron.app\n"
     ]
    }
   ],
   "source": [
    "path = model.export(format=\"onnx\")"
   ]
  }
 ],
 "metadata": {
  "kernelspec": {
   "display_name": ".venv",
   "language": "python",
   "name": "python3"
  },
  "language_info": {
   "codemirror_mode": {
    "name": "ipython",
    "version": 3
   },
   "file_extension": ".py",
   "mimetype": "text/x-python",
   "name": "python",
   "nbconvert_exporter": "python",
   "pygments_lexer": "ipython3",
   "version": "3.12.6"
  }
 },
 "nbformat": 4,
 "nbformat_minor": 2
}
